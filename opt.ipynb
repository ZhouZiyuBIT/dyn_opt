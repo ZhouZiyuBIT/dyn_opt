{
 "cells": [
  {
   "cell_type": "markdown",
   "metadata": {},
   "source": [
    "\n",
    "$$c_{obs}=\\sum_{i}\\int_{0}^{T}p_{i}(x,t)\\mathrm{d}t$$\n",
    "$$c_{ctrl}=\\int_{0}^{T}U^TRU\\mathrm{d}t$$\n",
    "$$c_{end}=\\Vert x(T)-x_{goal} \\Vert _2$$\n",
    "$$\\dot{X}=f(X,U)$$\n",
    "$$X(0)=X_{init}$$\n",
    "$$X_{lb}\\le X\\le X_{ub}$$\n",
    "\n",
    "* 离散化\n",
    "$$c_{obs}=\\sum_{i} \\sum_{k=1}^{N}p_{i,k}(x_{k})$$\n",
    "$$p_{i,k}=N(\\hat{o}_{i,k}, \\Sigma_{i,k})$$\n"
   ]
  },
  {
   "cell_type": "code",
   "execution_count": 1,
   "metadata": {},
   "outputs": [],
   "source": [
    "import casadi as ca\n",
    "import numpy as np"
   ]
  },
  {
   "cell_type": "code",
   "execution_count": 2,
   "metadata": {},
   "outputs": [],
   "source": [
    "p_var = ca.SX.sym('variance', 2,2)\n",
    "p_mean = ca.SX.sym('mean', 2,1)\n",
    "x = ca.SX.sym('x', 2,1)\n",
    "p_k = 1/(2*np.pi)/ca.sqrt(ca.det(p_var))\n",
    "p = p_k*ca.exp( -(x-p_mean).T @ ((ca.inv(p_var))@(x-p_mean))/2 )\n",
    "\n",
    "gauss_f = ca.Function('guassian_f', [x, p_mean, p_var], [p], ['variable', 'mean', 'variance'], ['density'])"
   ]
  },
  {
   "cell_type": "markdown",
   "metadata": {},
   "source": [
    "$\\dot{x}=v$, $\\dot{v}=u$\n",
    "\n",
    "state:[$x,\\dot{x}$], input:$u"
   ]
  },
  {
   "cell_type": "code",
   "execution_count": 3,
   "metadata": {},
   "outputs": [],
   "source": [
    "dt = 0.1\n",
    "\n",
    "px, py = ca.SX.sym('px'), ca.SX.sym('py')\n",
    "vx, vy = ca.SX.sym('vx'), ca.SX.sym('vy')\n",
    "X = ca.vertcat(px, py, vx, vy)\n",
    "\n",
    "ux, uy = ca.SX.sym('ux'), ca.SX.sym('uy')\n",
    "U = ca.vertcat(ux, uy)\n",
    "\n",
    "X_next = [px+vx*dt,\n",
    "          py+vy*dt,\n",
    "          vx+ux*dt,\n",
    "          vy+uy*dt]\n",
    "X_next = ca.vertcat(*X_next)\n",
    "\n",
    "dynamic_f = ca.Function('dynamic_f', [X, U], [X_next], ['state', 'input'], ['input'])\n"
   ]
  },
  {
   "cell_type": "markdown",
   "metadata": {},
   "source": [
    "Variables for Optimation: $\\{u_{k},x_{k}\\}_{k=1,...,N}$\n",
    "\n",
    "Parameters: $x_{init}$, $\\{o_{k}, \\Sigma_{k}\\}_{k=1,...,N}$, $x_{goal}$"
   ]
  },
  {
   "cell_type": "code",
   "execution_count": 4,
   "metadata": {},
   "outputs": [],
   "source": [
    "kcobs, kcc, kce = 1, 1, 1\n",
    "R = ca.diag([0.1, 0.1])\n",
    "nlp_f = 0\n",
    "nlp_x = []\n",
    "nlp_g = []\n",
    "\n",
    "X = ca.SX.sym('X', 4, 10)\n",
    "U = ca.SX.sym('U', 2, 10)\n",
    "P = ca.SX.sym('param', 4+6*10+2)\n",
    "\n",
    "nlp_f += U[:,0].T@R@U[:,0]\n",
    "nlp_f += gauss_f(X[:2,0], P[4:6], ca.reshape(P[6:10], 2,2))\n",
    "nlp_x += [U[:,0], X[:,0]]\n",
    "nlp_g += [X[:,0] - dynamic_f(P[0:4],U[:,0])]\n",
    "\n",
    "for i in range(1,10):\n",
    "    nlp_f += U[:,i].T@R@U[:,i]\n",
    "    nlp_f += gauss_f(X[:2,i], P[4+i*6:6+i*6], ca.reshape(P[6+i*6:10+i*6], 2,2))\n",
    "    nlp_x += [U[:,i], X[:,i]]\n",
    "    nlp_g += [X[:,i] - dynamic_f(X[:,i-1],U[:,i])]\n",
    "\n",
    "nlp_f += ca.norm_2(X[:2,i]-P[-2:])\n",
    "\n",
    "nlp_dict = {\n",
    "    'f': nlp_f,\n",
    "    'x': ca.veccat(*nlp_x),\n",
    "    'p': P,\n",
    "    'g': ca.veccat(*nlp_g)\n",
    "}\n",
    "nlp_ipopt_option = {\n",
    "    'verbose': False,\n",
    "    # 'ipopt.acceptable_tol': 1e-2,\n",
    "    'ipopt.tol': 1e-4,\n",
    "    'ipopt.max_iter': 500,\n",
    "    # 'ipopt.warm_start_init_point': 'yes',\n",
    "    'ipopt.bound_push': 1e-8,\n",
    "    'ipopt.bound_frac': 1e-8,\n",
    "    # 'ipopt.linear_solver': 'ma27'\n",
    "    # 'ipopt.print_level': 0,\n",
    "    # 'print_time': False,\n",
    "    'ipopt.mu_strategy': 'adaptive'\n",
    "}\n",
    "nlp_solver = ca.nlpsol('solver', 'ipopt', nlp_dict, nlp_ipopt_option)"
   ]
  },
  {
   "cell_type": "code",
   "execution_count": 5,
   "metadata": {},
   "outputs": [],
   "source": [
    "x0 = [0 for i in range(60)]\n",
    "lbx, ubx = [],[]\n",
    "lbg, ubg = [],[]\n",
    "for i in range(10):\n",
    "    lbx += [-2,-2, -ca.inf,-ca.inf, -2,-2]\n",
    "    ubx += [ 2, 2,  ca.inf, ca.inf,  2, 2]\n",
    "    lbg += [0, 0, 0, 0]\n",
    "    ubg += [0, 0, 0, 0]\n",
    "\n",
    "def nlp_solve(P):\n",
    "    global x0\n",
    "    \n",
    "    sol = nlp_solver(x0=x0,\n",
    "                     lbx=lbx,\n",
    "                     ubx=ubx,\n",
    "                     lbg=lbg,\n",
    "                     ubg=ubg,\n",
    "                     p=P)\n",
    "    return sol"
   ]
  },
  {
   "cell_type": "code",
   "execution_count": 26,
   "metadata": {},
   "outputs": [],
   "source": [
    "p = np.zeros(4+6*10+2)\n",
    "\n",
    "x_init = np.array([2,0,0,0])\n",
    "x_goal = np.array([2, 5])\n",
    "obs_p = np.array([2.2, 1])\n",
    "obs_var = np.array([[0.1, 0],\n",
    "                    [0, 0.1]])\n",
    "\n",
    "\n",
    "p[:4] = x_init\n",
    "for i in range(10):\n",
    "    p[4+i*6:6+i*6] = obs_p\n",
    "    p[6+i*6:10+i*6] = obs_var.T.reshape(4)\n",
    "\n",
    "p[-2:] = x_goal"
   ]
  },
  {
   "cell_type": "code",
   "execution_count": 27,
   "metadata": {},
   "outputs": [
    {
     "name": "stdout",
     "output_type": "stream",
     "text": [
      "This is Ipopt version 3.12.3, running with linear solver mumps.\n",
      "NOTE: Other linear solvers might be more efficient (see Ipopt documentation).\n",
      "\n",
      "Number of nonzeros in equality constraint Jacobian...:      114\n",
      "Number of nonzeros in inequality constraint Jacobian.:        0\n",
      "Number of nonzeros in Lagrangian Hessian.............:       50\n",
      "\n",
      "Total number of variables............................:       60\n",
      "                     variables with only lower bounds:        0\n",
      "                variables with lower and upper bounds:       40\n",
      "                     variables with only upper bounds:        0\n",
      "Total number of equality constraints.................:       40\n",
      "Total number of inequality constraints...............:        0\n",
      "        inequality constraints with only lower bounds:        0\n",
      "   inequality constraints with lower and upper bounds:        0\n",
      "        inequality constraints with only upper bounds:        0\n",
      "\n",
      "iter    objective    inf_pr   inf_du lg(mu)  ||d||  lg(rg) alpha_du alpha_pr  ls\n",
      "   0  5.3851648e+00 2.00e+00 5.84e-02   0.0 0.00e+00    -  0.00e+00 0.00e+00   0\n",
      "   1  5.0776455e+00 4.44e-16 1.60e-01  -5.7 2.00e+00    -  9.60e-01 1.00e+00h  1\n",
      "   2  5.0647536e+00 2.22e-16 5.37e-03  -2.6 1.03e-01    -  9.94e-01 1.00e+00f  1\n",
      "   3  5.0643459e+00 2.22e-16 1.59e-04  -4.5 2.03e-02    -  9.98e-01 1.00e+00f  1\n",
      "   4  5.0643458e+00 2.22e-16 1.98e-08 -10.3 2.97e-04    -  1.00e+00 1.00e+00f  1\n",
      "\n",
      "Number of Iterations....: 4\n",
      "\n",
      "                                   (scaled)                 (unscaled)\n",
      "Objective...............:   5.0643458347048833e+00    5.0643458347048833e+00\n",
      "Dual infeasibility......:   1.9804925172941447e-08    1.9804925172941447e-08\n",
      "Constraint violation....:   2.2204460492503131e-16    2.2204460492503131e-16\n",
      "Complementarity.........:   5.8319981204878635e-08    5.8319981204878635e-08\n",
      "Overall NLP error.......:   5.8319981204878635e-08    5.8319981204878635e-08\n",
      "\n",
      "\n",
      "Number of objective function evaluations             = 5\n",
      "Number of objective gradient evaluations             = 5\n",
      "Number of equality constraint evaluations            = 5\n",
      "Number of inequality constraint evaluations          = 0\n",
      "Number of equality constraint Jacobian evaluations   = 5\n",
      "Number of inequality constraint Jacobian evaluations = 0\n",
      "Number of Lagrangian Hessian evaluations             = 4\n",
      "Total CPU secs in IPOPT (w/o function evaluations)   =      0.009\n",
      "Total CPU secs in NLP function evaluations           =      0.000\n",
      "\n",
      "EXIT: Optimal Solution Found.\n",
      "      solver  :   t_proc      (avg)   t_wall      (avg)    n_eval\n",
      "       nlp_f  |  40.00us (  8.00us)  38.88us (  7.78us)         5\n",
      "       nlp_g  |  60.00us ( 12.00us)  51.19us ( 10.24us)         5\n",
      "    nlp_grad  |  22.00us ( 22.00us)  19.82us ( 19.82us)         1\n",
      "  nlp_grad_f  |  60.00us ( 10.00us)  56.61us (  9.44us)         6\n",
      "  nlp_hess_l  |  52.00us ( 13.00us)  50.08us ( 12.52us)         4\n",
      "   nlp_jac_g  |  33.00us (  5.50us)  30.75us (  5.13us)         6\n",
      "       total  |  10.26ms ( 10.26ms)   9.53ms (  9.53ms)         1\n"
     ]
    }
   ],
   "source": [
    "res = nlp_solve(p)"
   ]
  },
  {
   "cell_type": "code",
   "execution_count": 28,
   "metadata": {},
   "outputs": [],
   "source": [
    "X = np.array(res['x'])\n",
    "pos = np.zeros([2,10])\n",
    "for i in range(10):\n",
    "    pos[0,i] = X[2+i*6]\n",
    "    pos[1,i] = X[3+i*6]"
   ]
  },
  {
   "cell_type": "code",
   "execution_count": 29,
   "metadata": {},
   "outputs": [
    {
     "data": {
      "text/plain": [
       "[<matplotlib.lines.Line2D at 0x7fd6b3dfd820>]"
      ]
     },
     "execution_count": 29,
     "metadata": {},
     "output_type": "execute_result"
    },
    {
     "data": {
      "image/png": "[encoded data removed]",
      "text/plain": [
       "<Figure size 432x288 with 1 Axes>"
      ]
     },
     "metadata": {
      "needs_background": "light"
     },
     "output_type": "display_data"
    }
   ],
   "source": [
    "import matplotlib.pyplot as plt\n",
    "plt.plot(pos[0,:], pos[1,:])"
   ]
  }
 ],
 "metadata": {
  "kernelspec": {
   "display_name": "Python 3.9.13 ('base')",
   "language": "python",
   "name": "python3"
  },
  "language_info": {
   "codemirror_mode": {
    "name": "ipython",
    "version": 3
   },
   "file_extension": ".py",
   "mimetype": "text/x-python",
   "name": "python",
   "nbconvert_exporter": "python",
   "pygments_lexer": "ipython3",
   "version": "3.9.13"
  },
  "orig_nbformat": 4,
  "vscode": {
   "interpreter": {
    "hash": "0a2c29f4f752ba7b6ebce2b901c110beded96d7d3d4efe5e7384d99324a98ffb"
   }
  }
 },
 "nbformat": 4,
 "nbformat_minor": 2
}
