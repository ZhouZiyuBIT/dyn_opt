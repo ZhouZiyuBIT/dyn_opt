{
 "cells": [
  {
   "cell_type": "code",
   "execution_count": null,
   "metadata": {},
   "outputs": [],
   "source": [
    "# ready to run example: PythonClient/multirotor/hello_drone.py\n",
    "import airsim\n",
    "import os\n",
    "\n",
    "# connect to the AirSim simulator\n",
    "client = airsim.MultirotorClient()\n",
    "client.confirmConnection()\n",
    "client.enableApiControl(True)\n",
    "client.armDisarm(True)\n",
    "\n",
    "# Async methods returns Future. Call join() to wait for task to complete.\n",
    "client.takeoffAsync().join()\n",
    "client.moveToPositionAsync(-10, 10, -10, 5).join()\n",
    "\n",
    "# take images\n",
    "responses = client.simGetImages([\n",
    "    airsim.ImageRequest(\"0\", airsim.ImageType.DepthVis),\n",
    "    airsim.ImageRequest(\"1\", airsim.ImageType.DepthPlanar, True)])\n",
    "print('Retrieved images: %d', len(responses))\n",
    "\n",
    "# do something with the images\n",
    "for response in responses:\n",
    "    if response.pixels_as_float:\n",
    "        print(\"Type %d, size %d\" % (response.image_type, len(response.image_data_float)))\n",
    "        airsim.write_pfm(os.path.normpath('/temp/py1.pfm'), airsim.get_pfm_array(response))\n",
    "    else:\n",
    "        print(\"Type %d, size %d\" % (response.image_type, len(response.image_data_uint8)))\n",
    "        airsim.write_file(os.path.normpath('/temp/py1.png'), response.image_data_uint8)"
   ]
  }
 ],
 "metadata": {
  "kernelspec": {
   "display_name": "Python 3.9.12 ('base')",
   "language": "python",
   "name": "python3"
  },
  "language_info": {
   "name": "python",
   "version": "3.9.12"
  },
  "orig_nbformat": 4,
  "vscode": {
   "interpreter": {
    "hash": "8aa8257eab4dc02311351672dcb0e3db6411e63825360ccdc8fea21ed88e997d"
   }
  }
 },
 "nbformat": 4,
 "nbformat_minor": 2
}
