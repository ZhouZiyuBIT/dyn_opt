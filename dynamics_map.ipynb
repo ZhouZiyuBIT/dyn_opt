{
 "cells": [
  {
   "cell_type": "code",
   "execution_count": 1,
   "metadata": {},
   "outputs": [
    {
     "name": "stdout",
     "output_type": "stream",
     "text": [
      "Using matplotlib backend: <object object at 0x7fc1750015a0>\n"
     ]
    }
   ],
   "source": [
    "%matplotlib\n",
    "import matplotlib\n",
    "import matplotlib.pyplot as plt\n",
    "import numpy as np"
   ]
  },
  {
   "cell_type": "code",
   "execution_count": 2,
   "metadata": {},
   "outputs": [],
   "source": [
    "class Gaussian(object):\n",
    "    def __init__(self, mean, cov):\n",
    "        self._mean = mean\n",
    "        self._cov = cov\n",
    "        self._dim = self._mean.shape[-1]\n",
    "        self._k = 1/( np.power(2*np.pi, self._dim/2)* np.sqrt(np.linalg.norm(self._cov)) )\n",
    "    \n",
    "    def reset(self, mean, cov):\n",
    "        self._mean = mean\n",
    "        self._cov = cov\n",
    "        self._dim = self._mean.shape[-1]\n",
    "        self._k  = 1/( np.power(2*np.pi, self._dim/2)*np.sqrt(np.linalg.norm(self._cov)) )\n",
    "    \n",
    "    def __call__(self, x):\n",
    "        e = x-self._mean\n",
    "        \n",
    "        ee = e*(np.linalg.inv(self._cov)@e)\n",
    "        ee = np.sum(ee, axis=0)\n",
    "        return self._k*np.exp(-ee/2)"
   ]
  },
  {
   "cell_type": "code",
   "execution_count": 3,
   "metadata": {},
   "outputs": [],
   "source": [
    "class DynObstacle():\n",
    "    def __init__(self, trj:np.array, dt=0.1):\n",
    "        self._dt = dt\n",
    "        self._trj = trj\n",
    "        self._total_steps = trj.shape[-1]\n",
    "        \n",
    "        self._step = 0\n",
    "        self.pos = trj[:,0]\n",
    "        self.pos_cov = np.array([[0.1, 0],\n",
    "                                  [0, 0.1]])\n",
    "        self.distribution = Gaussian(self.pos.reshape([-1,1]), self.pos_cov)\n",
    "\n",
    "    def update(self):\n",
    "        self.pos = self._trj[:, self._step]\n",
    "        self.distribution.reset(self.pos.reshape([-1, 1]), self.pos_cov)\n",
    "        \n",
    "        self._step += 1\n",
    "        if self._step >= self._total_steps:\n",
    "            self._step = 0"
   ]
  },
  {
   "cell_type": "code",
   "execution_count": 4,
   "metadata": {},
   "outputs": [],
   "source": [
    "class ProbabilityMap(object):\n",
    "    def __init__(self, size=(5,5)):\n",
    "        self._size = size\n",
    "        self._obstacles = []\n",
    "\n",
    "        self.grid_map = np.zeros([100, 100])\n",
    "\n",
    "        x = np.linspace(0, self._size[0], num=100)\n",
    "        y = np.linspace(0, self._size[1], num=100)\n",
    "        X, Y = np.meshgrid(x, y)\n",
    "        X = X.reshape([1, -1])\n",
    "        Y = Y.reshape([1, -1])\n",
    "        self._XY = np.concatenate([X, Y], axis=0)\n",
    "    \n",
    "    def add_obstacle(self, obs):\n",
    "        self._obstacles.append(obs)\n",
    "\n",
    "    def map_update(self):\n",
    "        self.grid_map = np.zeros([100, 100])\n",
    "        for obs in self._obstacles:\n",
    "            obs.update()\n",
    "            self.grid_map += obs.distribution(self._XY).reshape([100, 100])\n",
    "        "
   ]
  },
  {
   "cell_type": "code",
   "execution_count": 5,
   "metadata": {},
   "outputs": [],
   "source": [
    "map = ProbabilityMap()\n",
    "mean = np.array([2.5,2.5]).reshape([-1,1])\n",
    "cov = np.array([[0.4, 0.3], \n",
    "                [0.1, 1]])\n",
    "\n",
    "t = np.linspace(0, 2*np.pi, 20)\n",
    "x = np.sin(t)*2 + 2.5\n",
    "y = np.ones(x.shape[0])*2\n",
    "x = x.reshape([1, -1])\n",
    "y = y.reshape([1, -1])\n",
    "trj = np.concatenate([x,y], axis=0)\n",
    "obs = DynObstacle(trj)\n",
    "map.add_obstacle(obs)"
   ]
  },
  {
   "cell_type": "code",
   "execution_count": 17,
   "metadata": {},
   "outputs": [],
   "source": [
    "import matplotlib.animation as animation\n",
    "\n",
    "sim_dt = 0.1\n",
    "def sim_run(T=5):\n",
    "    global map\n",
    "    t = 0\n",
    "\n",
    "    while t<T:\n",
    "        map.map_update()\n",
    "        t += sim_dt\n",
    "        yield map\n",
    "\n",
    "sim = sim_run()\n",
    "\n",
    "fig = plt.figure()\n",
    "ax = fig.add_axes([0.03, 0.05, 0.94, 0.9], animated=True)\n",
    "im = ax.imshow(map.grid_map, origin='lower', extent=(0,5, 0,5), animated=True)\n",
    "\n",
    "def update_plot(*args):\n",
    "    map = next(sim)\n",
    "    im.set_array(map.grid_map)\n",
    "    return ax,\n",
    "\n",
    "ani = animation.FuncAnimation(fig, update_plot, interval=100, blit=True, repeat=False)\n",
    "plt.show(block=True)"
   ]
  },
  {
   "cell_type": "code",
   "execution_count": 90,
   "metadata": {},
   "outputs": [
    {
     "data": {
      "text/plain": [
       "<__main__.ProbabilityMap at 0x7fb4cc7c5370>"
      ]
     },
     "execution_count": 90,
     "metadata": {},
     "output_type": "execute_result"
    }
   ],
   "source": [
    "fig = plt.figure()\n",
    "ax = fig.add_axes([0.03, 0.05, 0.94, 0.9])\n",
    "\n",
    "ax.imshow(map.grid_map, origin='lower',extent=(0,5,0,5))\n",
    "plt.show(block=True)"
   ]
  }
 ],
 "metadata": {
  "kernelspec": {
   "display_name": "Python 3.9.12 ('base')",
   "language": "python",
   "name": "python3"
  },
  "language_info": {
   "codemirror_mode": {
    "name": "ipython",
    "version": 3
   },
   "file_extension": ".py",
   "mimetype": "text/x-python",
   "name": "python",
   "nbconvert_exporter": "python",
   "pygments_lexer": "ipython3",
   "version": "3.9.12"
  },
  "orig_nbformat": 4,
  "vscode": {
   "interpreter": {
    "hash": "8aa8257eab4dc02311351672dcb0e3db6411e63825360ccdc8fea21ed88e997d"
   }
  }
 },
 "nbformat": 4,
 "nbformat_minor": 2
}
